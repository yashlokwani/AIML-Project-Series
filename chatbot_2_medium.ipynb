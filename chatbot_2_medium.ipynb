{
 "cells": [
  {
   "cell_type": "code",
   "execution_count": 1,
   "metadata": {},
   "outputs": [
    {
     "name": "stdout",
     "output_type": "stream",
     "text": [
      "Hello, yash! How can I assist you with your college admission queries?\n",
      "\n",
      "Please ask your admission related query or type 'quit' to end the session.\n",
      "The admission procedures include filling out an application form, submitting required documents, and paying a fee.\n",
      "\n",
      "Please ask your admission related query or type 'quit' to end the session.\n",
      "The application deadline is till July end, but it can vary depending on the college.\n",
      "\n",
      "Please ask your admission related query or type 'quit' to end the session.\n",
      "For more info, please visit our website - www.pdeuofficial.com\n",
      "\n",
      "Please ask your admission related query or type 'quit' to end the session.\n",
      "\n",
      "Goodbye, yash! Good luck with your college admission process!\n"
     ]
    }
   ],
   "source": [
    "class Admission:\n",
    "    def __init__(self):\n",
    "        self.user_name = \"\"\n",
    "        self.previous_messages = []\n",
    "        self.admission_info = {\n",
    "            \"procedures\": \"The admission procedures include filling out an application form, submitting required documents, and paying a fee.\",\n",
    "            \"requirements\": \"The requirements for admission include a high school diploma, LOR, and standardized test scores.\",\n",
    "            \"deadlines\": \"The application deadline is till July end, but it can vary depending on the college.\",\n",
    "            \"more info\":  \"For more info, please visit our website - www.pdeuofficial.com\"\n",
    "        }\n",
    "\n",
    "    def greeting(self):\n",
    "        return f\"Hello, {self.user_name}! How can I assist you with your college admission queries?\"\n",
    "\n",
    "    def farewell(self):\n",
    "        return f\"\\nGoodbye, {self.user_name}! Good luck with your college admission process!\"\n",
    "\n",
    "    def respond_to_user(self, user_input):\n",
    "        if user_input in self.admission_info:\n",
    "            return self.admission_info[user_input]\n",
    "        else:\n",
    "            return \"I'm sorry, I didn't understand that. Could you please rephrase or ask another question?\"\n",
    "\n",
    "    def chat(self):\n",
    "        self.user_name = input(\"Please enter your name: \")\n",
    "        print(self.greeting())\n",
    "        while True:\n",
    "            print(\"\\nPlease ask your admission related query or type 'quit' to end the session.\")\n",
    "            user_input = input()\n",
    "            if user_input.lower() == \"quit\":\n",
    "                print(self.farewell())\n",
    "                break\n",
    "            else:\n",
    "                response = self.respond_to_user(user_input)\n",
    "                print(response)\n",
    "                self.previous_messages.append((user_input, response))\n",
    "\n",
    "bot = Admission()\n",
    "bot.chat()\n"
   ]
  }
 ],
 "metadata": {
  "kernelspec": {
   "display_name": "Python 3",
   "language": "python",
   "name": "python3"
  },
  "language_info": {
   "codemirror_mode": {
    "name": "ipython",
    "version": 3
   },
   "file_extension": ".py",
   "mimetype": "text/x-python",
   "name": "python",
   "nbconvert_exporter": "python",
   "pygments_lexer": "ipython3",
   "version": "3.12.4"
  }
 },
 "nbformat": 4,
 "nbformat_minor": 2
}
